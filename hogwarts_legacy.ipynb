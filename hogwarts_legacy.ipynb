{
 "cells": [
  {
   "cell_type": "code",
   "execution_count": 125,
   "metadata": {},
   "outputs": [],
   "source": [
    "import pandas as pd \n",
    "import numpy as np\n",
    "import re \n",
    "import matplotlib.pyplot as plt\n",
    "import seaborn as sns\n",
    "from datetime import datetime \n",
    "\n",
    "\n",
    "pd.set_option('display.max_columns', None)\n",
    "#pd.set_option('display.max_rows', None)\n",
    "# pd.set_option('display.max_colwidth', None)\n",
    "df = pd.read_csv('/Users/davidrex/KAGGLE/hogwarts_legacy_reviews.csv')\n",
    "df['idx'] = df.index\n"
   ]
  },
  {
   "cell_type": "code",
   "execution_count": 126,
   "metadata": {},
   "outputs": [
    {
     "data": {
      "text/plain": [
       "116"
      ]
     },
     "execution_count": 126,
     "metadata": {},
     "output_type": "execute_result"
    }
   ],
   "source": [
    "df['Review'].str.match(r'(Incredible)').sum()"
   ]
  },
  {
   "attachments": {},
   "cell_type": "markdown",
   "metadata": {},
   "source": [
    "# Categorizing the negative reviews"
   ]
  },
  {
   "cell_type": "code",
   "execution_count": 127,
   "metadata": {},
   "outputs": [],
   "source": [
    "neg_df = df[df['Feedback'] == 'Negative']\n",
    "pos_df = df[df['Feedback'] == 'Positive']"
   ]
  },
  {
   "cell_type": "code",
   "execution_count": 128,
   "metadata": {},
   "outputs": [],
   "source": [
    "# what would be good to obtain, is the review and the hours played\n",
    "## so let's start by isolating the comments but hours played - people who've played the longest may have the better feedback"
   ]
  },
  {
   "attachments": {},
   "cell_type": "markdown",
   "metadata": {},
   "source": [
    "# Mean playtime per category of feedback"
   ]
  },
  {
   "attachments": {},
   "cell_type": "markdown",
   "metadata": {},
   "source": [
    "# 1/ Negative feedback"
   ]
  },
  {
   "cell_type": "code",
   "execution_count": 129,
   "metadata": {},
   "outputs": [
    {
     "name": "stdout",
     "output_type": "stream",
     "text": [
      "The mean play time for those who negative reviews was 7.87 hours\n"
     ]
    }
   ],
   "source": [
    "print(f\"The mean play time for those who negative reviews was {round(neg_df['Playtime'].mean(),2)} hours\")"
   ]
  },
  {
   "cell_type": "code",
   "execution_count": 130,
   "metadata": {},
   "outputs": [
    {
     "name": "stdout",
     "output_type": "stream",
     "text": [
      "The max time someone played that had a negative feedback was 69 hours, so that is definitely a feedback we'd take into account\n",
      "The min time someone played that had a negative feedback was 0 hours, ie less than an hour\n"
     ]
    }
   ],
   "source": [
    "\n",
    "print(f\"The max time someone played that had a negative feedback was {neg_df['Playtime'].max()} hours, so that is definitely a feedback we'd take into account\")\n",
    "print(f\"The min time someone played that had a negative feedback was {neg_df['Playtime'].min()} hours, ie less than an hour\")\n"
   ]
  },
  {
   "cell_type": "code",
   "execution_count": 131,
   "metadata": {},
   "outputs": [
    {
     "name": "stderr",
     "output_type": "stream",
     "text": [
      "/var/folders/4y/3p248ngs2790s3zw19p7l4vc0000gn/T/ipykernel_46693/3596104798.py:6: SettingWithCopyWarning: \n",
      "A value is trying to be set on a copy of a slice from a DataFrame.\n",
      "Try using .loc[row_indexer,col_indexer] = value instead\n",
      "\n",
      "See the caveats in the documentation: https://pandas.pydata.org/pandas-docs/stable/user_guide/indexing.html#returning-a-view-versus-a-copy\n",
      "  neg_rev_lowest_hours['Review'] = neg_rev_lowest_hours['Review'].astype(str)\n"
     ]
    }
   ],
   "source": [
    "# let's isolate the highest playing times\n",
    "neg_rev_highest_hours =  neg_df[neg_df['Playtime'] >= 40]\n",
    "neg_rev_lowest_hours = neg_df[neg_df['Playtime'] < 40]\n",
    "\n",
    "# this was necessary because some elements in the review section were intergers \n",
    "neg_rev_lowest_hours['Review'] = neg_rev_lowest_hours['Review'].astype(str)\n"
   ]
  },
  {
   "cell_type": "code",
   "execution_count": 163,
   "metadata": {},
   "outputs": [
    {
     "name": "stdout",
     "output_type": "stream",
     "text": [
      "bad: 15x\n",
      "terrible: 1x\n",
      "horrible: 5x\n",
      "boring: 13x\n",
      "slow: 2x\n",
      "bland: 1x\n",
      "repetitive: 8x\n",
      "hard: 20x\n",
      "gameplay: 8x\n",
      "glitch: 4x\n",
      "story: 63x\n",
      "but: 92x\n",
      "long: 13x\n"
     ]
    }
   ],
   "source": [
    "list_neg_words = (\"[bB]ad\", \"[tT]errible\", \"[hH]orrible\", \"[bB]oring\", \"[sS]low\", \n",
    "                  \"[bB]land\", \"[rR]epetitive\", \"[hH]ard\", \"[gG]ameplay\", \"[gG]litch\", \"[sS]tory\", \"[bB]ut\", \"[lL]ong\")\n",
    "#\"[hH]arry\", \"[vV]oldemort\", \"[vV]illain\", \"[fF]oe+\", \"[wW]and\", \"[dD]ragon\",\n",
    "\n",
    "for ele in list_neg_words:\n",
    "    regex = r'({})'.format(ele)\n",
    "    matches = neg_rev_highest_hours['Review'].str.findall(regex).sum()\n",
    "    print(f\"{matches[0]}: {len(matches)}x\")\n",
    "\n"
   ]
  },
  {
   "attachments": {},
   "cell_type": "markdown",
   "metadata": {},
   "source": [
    "# For players with less than 40hours gametime but negative feedback"
   ]
  },
  {
   "cell_type": "code",
   "execution_count": 161,
   "metadata": {},
   "outputs": [
    {
     "name": "stdout",
     "output_type": "stream",
     "text": [
      "bad: 570x\n",
      "terrible: 189x\n",
      "horrible: 131x\n",
      "Boring: 303x\n",
      "slow: 93x\n",
      "bland: 68x\n",
      "repetitive: 119x\n",
      "hard: 314x\n",
      "gameplay: 286x\n",
      "glitch: 105x\n",
      "long: 235x\n",
      "formulaic: 7x\n",
      "tiresome: 2x\n",
      "braindead: 4x\n",
      "worst: 91x\n",
      "bitter: 7x\n",
      "could've: 10x\n"
     ]
    }
   ],
   "source": [
    "list_neg_words_2 = (\"[bB]ad\", \"[tT]errible\", \"[hH]orrible\", \"[bB]oring\", \"[sS]low\", \n",
    "                  \"[bB]land\", \"[rR]epetitive\", \"[hH]ard\", \"[gG]ameplay\", \"[gG]litch\", \"[lL]ong\", \"[fF]ormulaic\", \"[tT]iresome\", \"[bB]raindead\", \"[wW]orst\", \"[bB]itter\", \"[cC]ould've\")\n",
    "#\"1/10\", \"2/10\", \"3/10\", \"4/10\", \"5/10\", \"6/10\", \"7/10\" ,\"[bB]ut\", \"[hH]arry\", \"[vV]oldemort\", \"[vV]illain\",\"[fF]oe+\", \"[wW]and\", \"[dD]ragon\", \"[gG]litch\", \"[sS]tory\", , \"[Mm]alfoy\", \"[sS]lytherin\", \n",
    "for ele in list_neg_words_2:\n",
    "    regex_x = r'({})'.format(ele)\n",
    "    matches_y = neg_rev_lowest_hours['Review'].str.findall(regex_x).sum()\n",
    "    print(f\"{matches_y[0]}: {len(matches_y)}x\")"
   ]
  },
  {
   "attachments": {},
   "cell_type": "markdown",
   "metadata": {},
   "source": [
    "# 2/ Positive feedback\n"
   ]
  },
  {
   "cell_type": "code",
   "execution_count": 134,
   "metadata": {},
   "outputs": [
    {
     "name": "stdout",
     "output_type": "stream",
     "text": [
      "The mean play time for those who positive reviews was 11.78 hours.It is a given though that those who enjoy the game will play more than those who don't.\n"
     ]
    }
   ],
   "source": [
    "print(f\"The mean play time for those who positive reviews was {round(pos_df['Playtime'].mean(),2)} hours.\"\n",
    "      f\"It is a given though that those who enjoy the game will play more than those who don't.\")"
   ]
  },
  {
   "attachments": {},
   "cell_type": "markdown",
   "metadata": {},
   "source": [
    "## For players who have +40hours gametime"
   ]
  },
  {
   "cell_type": "code",
   "execution_count": 154,
   "metadata": {},
   "outputs": [
    {
     "name": "stdout",
     "output_type": "stream",
     "text": [
      "good: 78x\n",
      "great: 107x\n",
      "amazing: 75x\n",
      "wonderful: 3x\n",
      "magical: 9x\n",
      "Super: 10x\n",
      "Excellent: 12x\n",
      "best: 56x\n",
      "superb: 1x\n",
      "Fantastic: 21x\n",
      "Grand: 1x\n",
      "solid: 8x\n",
      "perfect: 6x\n"
     ]
    }
   ],
   "source": [
    "# let's isolate the highest playing times\n",
    "pos_rev_highest_hours =  pos_df[pos_df['Playtime'] >= 40]\n",
    "\n",
    "list_pos_words = (\"[gG]ood\", \"[gG]reat\", \"[aA]mazing\", \"[wW]onderful\", \"[mM]agical\",\n",
    "                   \"[sS]uper\", \"[eE]xcellent\", \"[bB]est\", \"[sS]uperb\", \"[fF]antastic\", \"[gG]rand\", \"[sS]olid\", \"[Pp]erfect\")\n",
    "\n",
    "#\"10/10\", \"9/10\", \"8/10\", \"7/10\", \"[hH]ogwarts\",\n",
    "\n",
    "for exe in list_pos_words:\n",
    "    reg = r'({})'.format(exe)\n",
    "    matches_x = pos_rev_highest_hours['Review'].str.findall(reg).sum()\n",
    "    print(f\"{matches_x[0]}: {len(matches_x)}x\")\n",
    "    "
   ]
  },
  {
   "attachments": {},
   "cell_type": "markdown",
   "metadata": {},
   "source": [
    "# For players who have less than 40hours gametime"
   ]
  },
  {
   "cell_type": "code",
   "execution_count": 155,
   "metadata": {},
   "outputs": [
    {
     "name": "stdout",
     "output_type": "stream",
     "text": [
      "Good: 5545x\n",
      "Great: 5152x\n",
      "amazing: 4038x\n",
      "wonderful: 292x\n",
      "magical: 509x\n",
      "super: 463x\n",
      "Excellent: 342x\n",
      "best: 2594x\n",
      "Superb: 57x\n",
      "Fantastic: 846x\n",
      "grand: 17x\n",
      "Solid: 359x\n",
      "perfect: 526x\n"
     ]
    }
   ],
   "source": [
    "pos_rev_lowest_hours =  pos_df[pos_df['Playtime'] < 40]\n",
    "\n",
    "for exe in list_pos_words:\n",
    "    reg = r'({})'.format(exe)\n",
    "    matches_x = pos_rev_lowest_hours['Review'].str.findall(reg).sum()\n",
    "    print(f\"{matches_x[0]}: {len(matches_x)}x\")\n"
   ]
  },
  {
   "attachments": {},
   "cell_type": "markdown",
   "metadata": {},
   "source": [
    "# Creating a dataframe of positive comments for playtime < 40hours"
   ]
  },
  {
   "cell_type": "code",
   "execution_count": 159,
   "metadata": {},
   "outputs": [
    {
     "data": {
      "image/png": "[encoded data removed]",
      "text/plain": [
       "<Figure size 1152x864 with 1 Axes>"
      ]
     },
     "metadata": {
      "needs_background": "light"
     },
     "output_type": "display_data"
    }
   ],
   "source": [
    "# first we created a dictionary \n",
    "matches_dict_pos_lowest = {'Word': [], 'Count': []}\n",
    "\n",
    "# then we had to put the words and the counts in the dictionary\n",
    "for exe in list_pos_words:\n",
    "    reg = r'({})'.format(exe)\n",
    "    matches_x = pos_rev_lowest_hours['Review'].str.findall(reg).sum()\n",
    "    matches_dict_pos_lowest['Word'].append(exe)\n",
    "    matches_dict_pos_lowest['Count'].append(len(matches_x))\n",
    "\n",
    "# then i had to create my dataframe\n",
    "df_pos_low = pd.DataFrame(matches_dict_pos_lowest)\n",
    "\n",
    "## and this was the plotting part \n",
    "\n",
    "# set the figure size\n",
    "plt.figure(figsize=(16, 12))\n",
    "\n",
    "# create a bar plot of the counts\n",
    "plt.bar(df_pos_low['Word'], df_pos_low['Count'])\n",
    "\n",
    "# add labels and title\n",
    "plt.xlabel('Positive Words')\n",
    "plt.ylabel('Counts')\n",
    "plt.title('Counts of Positive Words in Reviews with Playtime < 40 hours')\n",
    "\n",
    "# display the plot\n",
    "plt.show()\n",
    "\n"
   ]
  },
  {
   "attachments": {},
   "cell_type": "markdown",
   "metadata": {},
   "source": [
    "# Creating Bar Plot for player reviews with +40 hours playing time"
   ]
  },
  {
   "cell_type": "code",
   "execution_count": 170,
   "metadata": {},
   "outputs": [
    {
     "data": {
      "image/png": "[encoded data removed]",
      "text/plain": [
       "<Figure size 1152x864 with 1 Axes>"
      ]
     },
     "metadata": {
      "needs_background": "light"
     },
     "output_type": "display_data"
    }
   ],
   "source": [
    "matches_dict_pos_highest = {'Word': [], 'Count': []}\n",
    "\n",
    "for exe in list_pos_words:\n",
    "    reg = r'({})'.format(exe)\n",
    "    matches_x = pos_rev_highest_hours['Review'].str.findall(reg).sum()\n",
    "    matches_dict_pos_highest['Word'].append(exe)\n",
    "    matches_dict_pos_highest['Count'].append(len(matches_x))\n",
    "\n",
    "df_pos_high = pd.DataFrame(matches_dict_pos_highest)\n",
    "\n",
    "\n",
    "# set the figure size\n",
    "plt.figure(figsize=(16, 12))\n",
    "\n",
    "# create a bar plot of the counts\n",
    "plt.bar(df_pos_high['Word'], df_pos_high['Count'])\n",
    "\n",
    "# add labels and title\n",
    "plt.xlabel('Positive Words')\n",
    "plt.ylabel('Counts')\n",
    "plt.title('Counts of Positive Words in Reviews with Playtime > 40 hours')\n",
    "\n",
    "# display the plot\n",
    "plt.show()"
   ]
  },
  {
   "attachments": {},
   "cell_type": "markdown",
   "metadata": {},
   "source": [
    "# Creating bar plots for people gave a negative review - both +40hours and -40hours"
   ]
  },
  {
   "cell_type": "code",
   "execution_count": 169,
   "metadata": {},
   "outputs": [
    {
     "data": {
      "image/png": "[encoded data removed]",
      "text/plain": [
       "<Figure size 1152x864 with 1 Axes>"
      ]
     },
     "metadata": {
      "needs_background": "light"
     },
     "output_type": "display_data"
    }
   ],
   "source": [
    "matches_dict_neg_highest = {'Word': [], 'Count': []}\n",
    "\n",
    "for exe in list_neg_words:\n",
    "    regex = r'({})'.format(exe)\n",
    "    matches = neg_rev_highest_hours['Review'].str.findall(regex).sum()\n",
    "    matches_dict_neg_highest['Word'].append(exe)\n",
    "    matches_dict_neg_highest['Count'].append(len(matches))\n",
    "\n",
    "df_neg_high = pd.DataFrame(matches_dict_neg_highest)\n",
    "\n",
    "\n",
    "# set the figure size\n",
    "plt.figure(figsize=(16, 12))\n",
    "\n",
    "# create a bar plot of the counts\n",
    "plt.bar(df_neg_high['Word'], df_neg_high['Count'])\n",
    "\n",
    "# add labels and title\n",
    "plt.xlabel('Positive Words')\n",
    "plt.ylabel('Counts')\n",
    "plt.title('Counts of Negative Words in Reviews with Playtime > 40 hours')\n",
    "\n",
    "# display the plot\n",
    "plt.show()"
   ]
  },
  {
   "cell_type": "code",
   "execution_count": 175,
   "metadata": {},
   "outputs": [
    {
     "data": {
      "image/png": "[encoded data removed]",
      "text/plain": [
       "<Figure size 1512x1224 with 1 Axes>"
      ]
     },
     "metadata": {
      "needs_background": "light"
     },
     "output_type": "display_data"
    }
   ],
   "source": [
    "matches_dict_neg_lowest = {'Word': [], 'Count': []}\n",
    "\n",
    "for exe in list_neg_words_2:\n",
    "    regex = r'({})'.format(exe)\n",
    "    matches = neg_rev_lowest_hours['Review'].str.findall(regex).sum()\n",
    "    matches_dict_neg_lowest['Word'].append(exe)\n",
    "    matches_dict_neg_lowest['Count'].append(len(matches))\n",
    "\n",
    "df_neg_low = pd.DataFrame(matches_dict_neg_lowest)\n",
    "\n",
    "\n",
    "# set the figure size\n",
    "plt.figure(figsize=(21, 17))\n",
    "\n",
    "# create a bar plot of the counts\n",
    "plt.bar(df_neg_low['Word'], df_neg_low['Count'])\n",
    "\n",
    "# add labels and title\n",
    "plt.xlabel('Positive Words')\n",
    "plt.ylabel('Counts')\n",
    "plt.title('Counts of Negative Words in Reviews with Playtime < 40 hours')\n",
    "\n",
    "# display the plot\n",
    "plt.show()"
   ]
  },
  {
   "attachments": {},
   "cell_type": "markdown",
   "metadata": {},
   "source": [
    "# Reading review of highest playing gamer"
   ]
  },
  {
   "cell_type": "code",
   "execution_count": 138,
   "metadata": {},
   "outputs": [
    {
     "data": {
      "text/html": [
       "<div>\n",
       "<style scoped>\n",
       "    .dataframe tbody tr th:only-of-type {\n",
       "        vertical-align: middle;\n",
       "    }\n",
       "\n",
       "    .dataframe tbody tr th {\n",
       "        vertical-align: top;\n",
       "    }\n",
       "\n",
       "    .dataframe thead th {\n",
       "        text-align: right;\n",
       "    }\n",
       "</style>\n",
       "<table border=\"1\" class=\"dataframe\">\n",
       "  <thead>\n",
       "    <tr style=\"text-align: right;\">\n",
       "      <th></th>\n",
       "      <th>Review</th>\n",
       "    </tr>\n",
       "  </thead>\n",
       "  <tbody>\n",
       "    <tr>\n",
       "      <th>2893</th>\n",
       "      <td>IF YOUR NOT PLAYING! YOUR NOT LIVING!ONE OF THE BEST GAMES I PLAYED IN A DECADE!</td>\n",
       "    </tr>\n",
       "  </tbody>\n",
       "</table>\n",
       "</div>"
      ],
      "text/plain": [
       "                                                                                Review\n",
       "2893  IF YOUR NOT PLAYING! YOUR NOT LIVING!ONE OF THE BEST GAMES I PLAYED IN A DECADE!"
      ]
     },
     "execution_count": 138,
     "metadata": {},
     "output_type": "execute_result"
    }
   ],
   "source": [
    "pos_rev_highest_hours['Playtime'].max()\n",
    "pd.set_option('display.max_colwidth', None)\n",
    "pos_rev_highest_hours[pos_rev_highest_hours['Playtime'] == 122]['Review'].to_frame()"
   ]
  },
  {
   "attachments": {},
   "cell_type": "markdown",
   "metadata": {},
   "source": [
    "# Reading review of highest playing gamer but with negative review"
   ]
  },
  {
   "cell_type": "code",
   "execution_count": 139,
   "metadata": {},
   "outputs": [
    {
     "data": {
      "text/html": [
       "<div>\n",
       "<style scoped>\n",
       "    .dataframe tbody tr th:only-of-type {\n",
       "        vertical-align: middle;\n",
       "    }\n",
       "\n",
       "    .dataframe tbody tr th {\n",
       "        vertical-align: top;\n",
       "    }\n",
       "\n",
       "    .dataframe thead th {\n",
       "        text-align: right;\n",
       "    }\n",
       "</style>\n",
       "<table border=\"1\" class=\"dataframe\">\n",
       "  <thead>\n",
       "    <tr style=\"text-align: right;\">\n",
       "      <th></th>\n",
       "      <th>Review</th>\n",
       "    </tr>\n",
       "  </thead>\n",
       "  <tbody>\n",
       "    <tr>\n",
       "      <th>17204</th>\n",
       "      <td>Lack of interaction with npc's, lack of content in general, story is boring and feels stretched. Great beginning however around halfway you can feel the dev's putting less and less effort. (just think of how hard they worked on the first hogsmeade mission and the intro to the game compared to end game content and ending). In general it feels like it missed so much potential for immersing ourselves into the universe, which is what it seemed to focus on in the begining seeing how much detail they put into hogwartz then a bit less in hogsmeade and then the rest of the world is basically empty. -no interaction with anyone unless they have a quest-no choices in the game at all even though it is hinted a few times that there are-minimal interactive elements (you cant even sit in a chair or get in your bed to sleep) im not asking to see potter take a crap. just enjoying a butter beer with a companion and do activities together like in gta 4 for example would be cool.-puzzles, puzzles and more puzzles.-elements like taking care of beats growing plants, brewing potions and learning the unforgivable are given really late in the game so you don't get to use them to their full potential.In general it feels like the team seemed inspired from how the game started but it felt like possibly half the content in the game had to be cancelled. for those saying i am asking too much. the real headscratcher is many games in the past have done much more for their games than was done for this game. looking back at the video's the dev's put out before release there's no wonder why they seemed to be so anxious about revealing anything about the game, it was just so shallow if they gave anything else away you would feel like there were no surprises.---{ Graphics }---☐ You forget what reality is☑ Beautiful☐ Good☐ Decent☐ Bad☐ Don‘t look too long at it☐ MS-DOS---{ Gameplay }---☐ Very good☐ Good☑ Its been done many times before☐ Mehh☐ Watch paint dry instead☐ Just don't---{ Audio }---☐ Eargasm☐ Very good☑ Good☐ Not too bad☐ Bad☐ I'm now deaf---{ Audience }---☐ Kids☑ Teens☑ Adults☐ Grandma---{ PC Requirements }---☐ Check if you can run paint☐ Potato☐ Decent☑ Fast☐ Rich boi☐ Ask NASA if they have a spare computer---{ Difficulty }---☐ Just press 'W'☐ Easy☑ Easy to learn / Hard to master☐ Significant brain usage☐ Difficult☐ Dark Souls---{ Grind }---☐ Nothing to grind☐ Only if u care about leaderboards/ranks☑ Isn't necessary to progress☐ Average grind level☐ Too much grind☐ You'll need a second life for grinding---{ Story }---☐ No Story☐ Some lore☑ Average☐ Good☐ Lovely☐ It'll replace your life---{ Game Time }---☐ Long enough for a cup of coffee☐ Short☑  Average☐ Long☐ To infinity and beyond---{ Price }---☐ It's free!☐ Worth the price☐ If it's on sale☑ If u have some spare money left☐ Not recommended☐ You could also just burn your money---{ Bugs }---☐ Never heard of☑ Minor bugs☐ Can get annoying☐ ARK: Survival Evolved☐ The game itself is a big terrarium for bugs---{ ? / 10 }---☐ 1☐ 2☐ 3☐ 4☐ 5☐ 6☑ 6.5☐7☐ 8☐ 9☐ 10Unless the dev's come out with a few quest dlc's and more content to explore and rp in the open would i cannot reccomend.Or unless you are a die hard harry potter fan like me but keep your expectations low or you might get sad halfway through.</td>\n",
       "    </tr>\n",
       "  </tbody>\n",
       "</table>\n",
       "</div>"
      ],
      "text/plain": [
       "                                                                                                                                                                                                                                                                                                                                                                                                                                                                                                                                                                                                                                                                                                                                                                                                                                                                                                                                                                                                                                                                                                                                                                                                                                                                                                                                                                                                                                                                                                                                                                                                                                                                                                                                                                                                                                                                                                                                                                                                                                                                                                                                                                                                                                                                                                                                                                                                                                                                                                                                                                                                                                                                                                                                                                                                                                                                                                                                                                                                                                                                                                                                                                                                                                                                                                                                                                                                           Review\n",
       "17204  Lack of interaction with npc's, lack of content in general, story is boring and feels stretched. Great beginning however around halfway you can feel the dev's putting less and less effort. (just think of how hard they worked on the first hogsmeade mission and the intro to the game compared to end game content and ending). In general it feels like it missed so much potential for immersing ourselves into the universe, which is what it seemed to focus on in the begining seeing how much detail they put into hogwartz then a bit less in hogsmeade and then the rest of the world is basically empty. -no interaction with anyone unless they have a quest-no choices in the game at all even though it is hinted a few times that there are-minimal interactive elements (you cant even sit in a chair or get in your bed to sleep) im not asking to see potter take a crap. just enjoying a butter beer with a companion and do activities together like in gta 4 for example would be cool.-puzzles, puzzles and more puzzles.-elements like taking care of beats growing plants, brewing potions and learning the unforgivable are given really late in the game so you don't get to use them to their full potential.In general it feels like the team seemed inspired from how the game started but it felt like possibly half the content in the game had to be cancelled. for those saying i am asking too much. the real headscratcher is many games in the past have done much more for their games than was done for this game. looking back at the video's the dev's put out before release there's no wonder why they seemed to be so anxious about revealing anything about the game, it was just so shallow if they gave anything else away you would feel like there were no surprises.---{ Graphics }---☐ You forget what reality is☑ Beautiful☐ Good☐ Decent☐ Bad☐ Don‘t look too long at it☐ MS-DOS---{ Gameplay }---☐ Very good☐ Good☑ Its been done many times before☐ Mehh☐ Watch paint dry instead☐ Just don't---{ Audio }---☐ Eargasm☐ Very good☑ Good☐ Not too bad☐ Bad☐ I'm now deaf---{ Audience }---☐ Kids☑ Teens☑ Adults☐ Grandma---{ PC Requirements }---☐ Check if you can run paint☐ Potato☐ Decent☑ Fast☐ Rich boi☐ Ask NASA if they have a spare computer---{ Difficulty }---☐ Just press 'W'☐ Easy☑ Easy to learn / Hard to master☐ Significant brain usage☐ Difficult☐ Dark Souls---{ Grind }---☐ Nothing to grind☐ Only if u care about leaderboards/ranks☑ Isn't necessary to progress☐ Average grind level☐ Too much grind☐ You'll need a second life for grinding---{ Story }---☐ No Story☐ Some lore☑ Average☐ Good☐ Lovely☐ It'll replace your life---{ Game Time }---☐ Long enough for a cup of coffee☐ Short☑  Average☐ Long☐ To infinity and beyond---{ Price }---☐ It's free!☐ Worth the price☐ If it's on sale☑ If u have some spare money left☐ Not recommended☐ You could also just burn your money---{ Bugs }---☐ Never heard of☑ Minor bugs☐ Can get annoying☐ ARK: Survival Evolved☐ The game itself is a big terrarium for bugs---{ ? / 10 }---☐ 1☐ 2☐ 3☐ 4☐ 5☐ 6☑ 6.5☐7☐ 8☐ 9☐ 10Unless the dev's come out with a few quest dlc's and more content to explore and rp in the open would i cannot reccomend.Or unless you are a die hard harry potter fan like me but keep your expectations low or you might get sad halfway through."
      ]
     },
     "execution_count": 139,
     "metadata": {},
     "output_type": "execute_result"
    }
   ],
   "source": [
    "neg_rev_highest_hours['Playtime'].max()\n",
    "\n",
    "neg_rev_highest_hours[neg_rev_highest_hours['Playtime'] == 69 ]['Review'].to_frame()"
   ]
  },
  {
   "attachments": {},
   "cell_type": "markdown",
   "metadata": {},
   "source": [
    "# Getting comments from people who found the game 'boring' and gave a negative comment"
   ]
  },
  {
   "cell_type": "code",
   "execution_count": 140,
   "metadata": {},
   "outputs": [
    {
     "name": "stdout",
     "output_type": "stream",
     "text": [
      "NEG COMMENT: I will start with - this is the first and last game I have ever pre-ordered. I was so hyped about the game after all these years - a Harry Potter game with modern graphics. I will point out the bad sides first. 1. The game is dashingly predictable. The story is boring (SPOILERS!!!), I am the ultra young hero that defeated and killed wizards with muuuch more experience than me. Sure. Booooring. 2. I start from 5th year and I miss all the fun from the beginning, all the spell learning, classes, etc. 3. Every single NPC besides the ones for the quests, feel like the training dummies I test my magic on. They do not feel living, they kinda just stay there, like cardboard characters. 4. This should must've been a MMORPG game, where we start from 1st year, learn, duel each other, form teams, eventually story unwinds that Hogwarts will be attacked eventually, we participate in different events where we learn newer and newer stuff, the years go by, we get better and better, whole game goes darker, more enemies spawn, attack us, lure us, etc. Eventually we get to a point where we have to defend Hogwarts and if we fail - then we have to retake it. All of us should've had our own paths, become herbalists, beast masters, potion maters, etc, fight with what we chose, explore the world, gather, learn. Have different character personalities - like being bad or arrogant, or good, or selfish, etc. 6. Game becomes repetitive fast, especially with all the cut scenes that you cannot cancel (like Merlin trials) - it gets annoying. 7. The whole world feels... small. Yes, there's lots to explore, but it gets the same after some time. Spiders, inferni, some water enemies and loalists. That's it. Few trolls and few wolves. 8. The game is badly optimized for PC, it works, but it requires a lot of hardware to be ran on maximum graphics where you do not get much better graphics, to be honest. 9. Conversations are dull, you cannot make proper conversation, it's very straightforward and there are \"choices\" that do not affect anything of the end game. 10. All the teachers are bad copy from the teachers of the HP saga, visually and character like. 11. If it was a 10$ game - it would be okay. But 50-70$ game - it's definitely not worth the money,Overall - meh. It's playable, it's just not what it could've been - a masterpiece. Now it's just another game we will forget in several months. \n",
      "\n",
      "NEG COMMENT: This game has it all... The good , the bad , the ugly and most of all :  the controversy.The world is visually stunning , the combat is AMAZING , and the game has great sound. Unfortunately that is where the good ends. The game has the immersion level of an empty kiddie pool. They couldn't have done a worse job if they tried to. It's also missing one of the most important spells : Denuvo Remuvo... Funny enough , most bad reviews are about the performance of this game. Literally the only thing they did right , aside the DRM. If you are having performance issues on a 3k computer , then you should consider switching to console gaming. Just saying... Also , the Prince of Nigeria is not real. The only reason people are giving this game good reviews is out of nostalgia. As soon as you get over that , you start seeing the endless amount of flaws and vast emptiness of this game. The Steam community is giving this game witcher 3 review scores while it should be receiving Mafia 3 review scores. They literally could not have made this game more shallow or depthless if they tried to. Even Ubisoft could learn a thing or 2 from them. LOL xD. Don't get me wrong... This game is a lot of fun. But it sure as hell does NOT deserve the reviews it's getting.It's a 7 out of 10 max. Another year of development could have turned this into one of the best games ever made. I must admit though that I was pleasantly surprised that they didn't turn this game into a microtransaction fest with 9 different editions and a sharkcard system. Another pleasant surprise was the pricing. They could've easily charged us 69.99 for base. Which is preposterous if you ask me. So thumbs up for that. And now ... The most important part of this review... WHO DID THE CAT ANIMATION? He/she/HeShe/SheHe/X ( LOL ) Needs to be fired ASAP. The cats look like they escaped from Minecraft Azakaban after a 7 year sentence. And now... The unavoidable : The crazy woke propaganda. First of all and sadly I need to point out that I'm neither racist or homo / transphobic.But I refuse to stay silent and watch every culture in the world get destroyed under the disguise of \"diversity\" The Harry Potter universe is a WHITE universe. Just like the Fresh Prince of Bel Air is a BLACK universe. It's literally that simple. There was no need to add 17 different cultures into the game to make everyone feel \"included\". Imagine Jim Carrey taking the leadrole in the New Fresh Prince spin off... That's how ridiculous this is. And last but not least : To all the crazy hormone induced , attention disorder woke transformers out there...  Make up your F'ing mind... Do you wanna look like a guy , a woman or like freak that escaped the circus? You can't ask people to recognise your disorder and accept you , if you keep defining your self as \"transgender\". You are either male , or female. So there is no need for transgender NPC's in any game... And just so you know... Minorities of minorities can't boycot shit. You are destroying your own cause. Normal transgenders are embarrassed and disgusted by your cancerous woke behavior. Believe me... They told me so ;). That being said... I can't give this game a higher score than 7/10. And eventhough it's more than playable , I do not recommand buying it. \n",
      "\n",
      "NEG COMMENT: There are things worth prefficing before reading the rest of my review. (Spoilers ahead)I played on older hardware, gtx1080, 16gig ram from 2015, i5 6600k slightly overclocked. I had 80 fps most of the time, sometimes 50, sometimes 100+. I played with all settings low, except textures high, and resolution scaling as high as it'd let me (something awkward like 76% off my ultrawide 2k). Game still looked alright. But I can't comment on how it looks at maxed settings.I read all the books, watched the movies up to the 6th one, Never saw the 2 last movies, or any of the spinoffs. It was one of those, \"yeah I remember it, I played some off the movie tie-in games way back when.\" Type of deals.I completed the main story, and had 90% or more progression on everything except exploration. I'll start with the positive: Core gameplay loop is relatively fun, some chore but that's most rpgs. Sound design/music is great.Plenty off things to collect for the obsessive person. Poppy's introduction, and storyline in general kept me going when the game was dripfeeding me quests.Lots of customization. Though eventually you realize a lot is ugly or meaningless.Neutral:Game is pretty easy. I played on Hard all the way through and ended the story at level 36, with 39 thousand galleons, everything in hogsmead purchased, and 2960/413/409 in stats. Very few things were a challenge. Which kept the speed along, but I felt the main difficulty was things like teleporting/rubberbanding trolls after you dodge roll. Negative:The beasts you breed don't age, they are always offspring. Finding rare beasts therefore has no meaning.The ending fell flat, I laughed during the emotional scenes.In general, characters are really stupid and predictable.Like the writers knew they needed emotional beats, but spent the LEAST ammount of time writing it. Or weren't competent.Gamebreaking AI pathing where in at least 2 ocassions I had to load a save because the escort NPC got stuck on terrain.But the biggest crime for me is that no choices mattered. Sure, it might lead to a dialogue option later, like I recall the library girl complaining about how you held her diary hostage (I chose the option that she could get it back for a fee), and that was kinda fun.But really? Unforgivable curses launched in front off teachers slinging death everywhere. Ludonarrative dissonance has pulled me away from games before and I really, really hesitate to recommend this game to people who dislike the idea of being a hero, but having the ability to murder literally hundreds. Generic and repetetive MC quotes. example:Killed my 500th ashwinder. Character be like: Ah I did quite well there, and against an ashwinder no less. (paraphrasing)Or that stupid warp system saying: \"Oh you can't imagine how inconvenient travel was before I invented floo powder\"You got your 3rd mount option very late in the story and it's just worse than the others. I don't really get the decision.Some challenge gauntlets I went into too early and sure I got a slow overall time (timetrial). But I beat enemies 10 levels higer than me no sweat on hard. So I can't see myself going back to other timetrials, or solving stupid merlin puzzles, or the maybe 100 locks I need to open in all the little corners off hogwarts and the little villages surrounding it. The room of requirements should've had the right side open after finishing the game, to design a house or something, and like, invite the npcs. For instance taking Poppy there to meet highwing again, what a payoff that would've been. Also I saw some people complain there wasn't any romance options, I don't really care, but it's true that I had no real attachment to any of the characters until well into the game. Sebastian I liked at the start, hated more and more as the game went on.There is no real ravenclaw companion. Amit and that frazzle haired broom guy is the closest to it. Natty was always annoying, forehead smack at the end.Poppy was great. Though I think the questline could've used trimming like 2-3 missions to get to the point, and fleshed out more after instead. But definitely the best companion questline. Got roughly 45 hours off somewhat fun, for 69 euro. Is that worth it? For some it is. But I would've rather just played something else. \n",
      "\n",
      "NEG COMMENT: Good game, lacking a bit of upgrades for spells / brooms and customization (not a lot of wand design, only a the handle can change) but not so much a big deal and it feels great.Although a reputation system would be a big+ aswell to avoid lockpicking or casting forbbiden spells infront of your teachers without any reaction.The story feels flat, I don't care about any characters, You don't feel like a student in 5th year (learning lumos in 5th year lmao) your house have no impact, classes are boring and useless, no house point system.. NPCs are idling in the castle without any interaction possible so in two words \"[b]not Immersive[/b]\" at all for me.Side quests are so bland go kill goblins / dark mages in a camp and done or press a button to resolve a puzzle and loot an item in a cave thats it.Loot have no sense, and is scaled on your current level so you should keep some chests if you want better stuff later... Legendary is a joke and you'll find plenty of \"legendary\" stuff, in fact so much you'll find yourself selling legendaries for some inventory spaces. There is no combo of items or themed sets of item giving some stat boost or any effect.The HP lore is underexploited, somethings are only mentioned for the nostaligia effect but there isn't many actual enemy creatures (no dementors :'( no pixies, no werewolf no gytrash etc )  Main enemies you'll encounter are [spoiler] dark mages, goblins and some spiders (thanks Hargrid from the future I guess)[/spoiler]And on top of that the game crash way too often (more than 15 times in 37h ) sometimes even in loading screens.. and yet I still wanted to launch it back to play the game.But one day a crash turned into a blue screen which is wayy more annyoing.. and still after a reboot I could still play the game. However the next day the game crash again with a blue screen but this time after rebooting my save was gone.. And that draws the line for me I'm not willing to invest 40 hours back into a game that will eventually crash 50 more times and erase my save without any warnings.Even after checking for files and retriving 2 files I guess it wasn't my save.Stability issues aside I still think it's a good game because I had some fun playing it while it lasted but it could've been WAAY better if they pushed it a bit further and a bit deeper plot- wise and not keeping it as simple as possible. \n",
      "\n",
      "NEG COMMENT: I don't write reviews, but I'm writing one because of how frustrated I felt while playing this game.6/10 (Exploration and combat are the only reasons this isn't a 4 or 5)TL;DRGraphics - 10/10Combat - 10/10Combat AI - 6/10Immersion - 4/10Story - 3/10Bosses - 2/10 (Final Boss alone drops this by like 3 points)Frustration and Gripes - 10/10[Spoilers Ahead] (All of it is a spoiler)I get that making games is hard and requires a lot of time and theres deadlines, so if you end up reading this just take it with a grain of salt that most of this is a rant of how unfulfilling this game felt while playing.Best parts of the game:Combat - Pretty neat combos and insta-kill mechanics against various enemiesExploration - You can explore the world of Harry Potter, not much more to be saidRoom of Requirement - Very customizable and easily one of the biggest selling points for the gameGraphics - The game is indeed very beautiful, there are many instances in which you'll find yourself admiring the view as you fly around on a broom or creature.Worst parts of the game:Story - I don't even know where to begin. I came into this expecting a Harry Potter level story with me learning about the characters, being able to go on adventures with them and thwarting Ranrok's plan together. Instead, I got the most unimaginative and frustrating story I could've imagined. I really wanted to like it, I really did. The most interesting part of the story was the pensieve memories. Literally the only thing I was looking forward to story wise. Sebastian's entire character is that he wants to cure Anne and hes going to do whatever it takes to do it. There is 0 complexity, thats literally it. His entire story line is him teaching you curses and saying \"I have to do this to help Anne!\" You can't reason with him, you can't try to stop him, you can only select choice dialogues that all end up leading to the same place. Natty's entire character is stopping Harlow. She had a tragedy happen to her when she was younger, and that's it. Poppy is the animal lover with a complex family background, but that shit gets zero exploration. Poppy loves beasts but comes from a family of poachers. However, her Grandma seems to be a researcher or shares a similar extreme interest in beasts and the care of them. So how did her parents come to become poachers? Instead of asking these questions and getting some answers, you can only say stuff like \"Oh, im so sorry that happened to you\" or find out the most surface level shit. There is also no companion system or anything like that. You can't walk up to the friends you know and go on an adventure to beat up poachers or loyalists. There will be multiple times your character will say stuff like \"I really shouldn't be here alone\", but you also have no choice but to be there alone. It doesn't feel like you have a group of friends at Hogwarts, the entire game feels very lonely with no meaningful relationships made. Combat AI - The combat AI is sometimes good, sometimes bad. In the fight against Rookwood, half of the AI just stood there doing nothing. It was like they saw 5 bogies targeting me and decided to take a break. Other times, they'll  stagger spell casts so if you protego and stupefy someone you'll get nailed by another spell and surround you. Stealth combat is pretty dumb. They'll watch everybody turn to stone and have no reactions. They'll occasionally run to the spot if they saw someone die in front of them, but you can just walk away and wait for them to reset, then rinse and repeat. It's pretty boring.Final Boss Battle - He only has 1 form. Big bad dragon. You destroy the three orbs with the correct color spell, then you attack him. This continues on for literally the entire boss fight until the end where he lands (WOW!). After he lands he turns into a Graphorn pretty much. Dodge the charge and fire breath and then beat his ass. He had this extremely large build up where he reveals that he has Miriam's wand and then destroys the container to absorb the final repository, for it to fall flat and become extremely lazy as he just becomes a red dragon that breathes fire at you. Like what was the point of all that? Got me all excited to fight a juiced up Ranrok who was gonna throw a bunch of spells at me for it to be a dragon with multiple phases that does the exact same thing each phase.Gripes:Beasts - You can't interact with them and they don't exhibit any special behaviors. It would have been cool if I put two Graphorn's in the room of requirement, and saw them exhibit territorial behaviors or play fighting of some kind. It would've been cool to see the Unicorns prancing around together. It would've been nice to see the beasts interact with each other, or groom each other. It would've been nice if I could interact with the beasts in ANY way besides summoning a brush or food for them to collect beast byproducts. All they do is walk around and graze or lay down. The only interaction you can do with the beasts is summon a fucking BALL. Yeah, the most interesting thing I can do with these beasts after rescuing them is watch them eat and walk around or summon a ball for them to run into and knock around. There is nothing magical about them after you rescue them. Wand Choice - You customize the appearance of the wand and thats it. The capability of the wand doesn't change based off of the core you choose or anything like that. Seems like such a waste for there to be no difference. Could've played around with attack range, damage reliability, cooldowns, etc. Also why is the basic attack always red? I can't change the color of that either? House Cup - Theres barely any emphasis or point in this. The points don't matter because at the end of the game you'll get 100 points and win the house cup anyways. There is no competition and its not satisfying at all in the end. One house will have some points, your house will have the most points, and two of the other houses will have none at all if you look at the points in the Great Hall. Dark Arts - Dark arts are op as fuck and theres no downside to using them. No one will be wondering why you just used Avada Kedavra, it insta kills bosses like Harlow and trolls, etc. If you think that cooldown is how they balanced it, just pop a focus potion and spam the other spells then you have it back in no time. They keep talking about unforgiveable curses being bad and all but theres no repercussion or story impact to you using it. I understand that it probably wouldn't be as fun open world wise for you to have restrictions on your capabilities, but it felt so illogical it took me right out of the game and had me frustrated.Bosses - You can assassinate most of the mini-bosses. Avada Kedavra will kill them all. You'd think for being proficient in killing people with that curse, they would also have some measure of combating it. Especially as a boss.Immersion - I CAN'T GET IMMERSED MAN. Maybe my game was bugged, but the first time flying on the Hippogryph, there was no music. Took me right out, all I could think of was man, this thing is slow as shit, feels slower than my broom. Walked into the Great Hall and it was like I was back at basic training in the Chow Hall, silent as fuck. Took like 1 minute for sounds to start playing, but it was still kinda quiet. Walking through Hogwarts feels very lonely, there is barely enough volume with the chatter so it feels like no one is talking, when I spawn a Hippogryph or Graphorn out of my bag and onto school grounds, there is no reaction. Nobody cares that an extremely massive and rare magical beast just appeared out of nowhere, and that I'm riding it. There is barely any quips when you walk around about stuff you did. It'll sometimes randomly pop into conversation for quests where they're like, \"You're the kid who killed the troll right?\". It doesn't feel like you accomplished anything when I play or that you are celebrated for the deeds you chose to do. \n",
      "\n",
      "NEG COMMENT: first third/quarter of the game is pretty good but as that tapers off it is quite meh and repetitive, for instance, there is an ability that turns your roll into a dash/teleport, when fighting troll enemies they will teleport with you (very strange and only happens with troll varieties), the combat in the beginning portion of the game is easy and ends to quickly, whilst in the endgame the combat is drawn out with enemies being more tanky so spamming damage spells and left clicking is the best route, the story isn't too interesting after the second keeper trial, (didn't even have voicelines of the names of the pre-order hippogriff or the thestral mount, when your character addresses the default hippogriff by her name), i also find the lack of immersion jarring, a prime example would be timeskipping by waiting in the middle of the woods on some dirt but i can't go back to my dorm and skip time there which is very strange, the side plot with sebastian is dull (me go to evil place to try and save sister) [spoiler] doesn't even save his sister and also kills his uncle [/spoiler], there could be some more immersive features and the addition of whole new things, (also no new game plus as of this review) even a multiplayer duelling system would be fun since the duelling \"questline\" is about 5 quests long when they could've have leaderboards of the best duelists and broomstick racers so there could be some sort of multiplayer features as before release there was rumors of co-op compatibility, overall, lacking in some areas but fun in others, also multiple obligatory stealth missionsedit: the boss fight against victor rookwood is so bad, it consists of 3 waves of rmobs then 2 qte \"fights\" then he dies and you get 1 coinTL/DR: play a different fantasy game or watch the harry potter movies \n",
      "\n",
      "NEG COMMENT: I have to say that I have yet to scratch the surface of the meat and bones of the narrative of this game, but I can tell you this much: what you've been seeing on social media is full of crock on multiple ends of the political spectrum. Hear me out.There are very liberal-leaning people are 100% valid about not feeling comfortable playing this game. JK Rowling is undisputably a TERF. And she owns the entire IP of the very successful franchise that most of us have been so influenced by. Any purchase of this game or adjacent merchandise will have a percentage of the funds sent her way somehow.There are very conservative-leaning people who are full of it because they're using their privilege to push against liberal-leaning people with this game in a very negative and deconstructive way. They'll say stuff like \"I'm buying this game out of spite\" or \"They're making me want to play this game more\".But between these two types of people, are people who spread even more misinformation about the way certain groups of people who are playing this game, and of those certain groups of people could be you (the person reading this review).Now I've done intense critical research about this game and the opinions being made on social media. And I've drawn the conclusion is that trans people deserve visibility, but I also think they feel coerced into this drama. It's probably why I don't see varying constructive opinions about this game, because frankly I don't even think they even care or they just simply don't feel comfortable talking about it (which I can wholeheartedly understand). And this is all assuming, as politely as I can be, and I apologize if it's not accurate.But I also think that this game has emotionally drawn us to be at each other's throats at the expense of JK Rowling. She knows what she's doing, and it's working. We could've avoided this by not playing her game. Not Hogwarts Legacy, but HER game. Instead of educating each other and giving each other reassurance about what we endorse, we've gone our way to ACCUSE people of something they are not. We're mere strangers on this small blue marble.I would've thought we've had higher standards. But we've managed to make this drama bigger than Disney's remake of Mulan. We've talked about this thing as if Michael Bay's Transformers never happened.I want to make it abundantly clear: BUYING HOGWARTS LEGACY DOES NOT MAKE YOU INHERENTLY A TRANSPHOBE.You can purchase anything in existence without having to endorse somebody. Otherwise you'd be calling unknowing customers at Universal Studios Orlando transphobes as well.HOWEVER, buying the game does go to JK Rowling. So if you want do be more noble and try to get the game used, go ahead and get it used on console platforms.It needs to be said that there are people not well-informed about the online discourse. And as someone who is liberal-leaning, please check yourself.With all that being said, this game is straight up everything controversial JK Rowling's vision sets out to be. But it's unusually entertaining how authentic the game mechanics, lore, and level designs are overshadowing it.Ethically speaking, do not buy despite the praise. Support your fellow trans person by any feasible mean. Please do not scapegoat and misinform. \n",
      "\n",
      "NEG COMMENT: The story is really good, but the whole world of Hogwarts feels like a letdown.1. Rules at Hogwarts seem to not exist outside of questsAs you know there are certain rules at Hogwarts like: don't wonder around certain areas, never use the curse spells. All of these rules are only applied to quests. One quest you'll have to avoid detection by prefects and sneak past them, after that the NPCs you are trying to avoid is gone and the stealth mechanic is no longer needed. And the spell-casting tournament in Hogwarts where you face off against others in friendly combat, they seem to be chill after I casted THE DEATH CURSE on them and crowned me champion in the tournament.2. The main character seems to be able to master any spells that is presented to themAs you know you're a fifth-year, meaning that you have NO EXPERIENCE at all with magic. You weren't trained to cast any sort of magic or even been aware of it. In the end somehow you mastered all the spells first try as if the students that did went through the years 1-4 wasted their entire years of their life that could've been done in one. and don't give me \"the people who have the ability to see 'ancient magic' therefore understands it better\" crap cause that side was never explained to begin with.3. forbidden forest doesn't seem that forbiddenThe forbidden forest doesn't have any meaning to it like it should, instead it's just a forest that has a higher level scale and number of enemies that people can just casually walk through the forest as if it's not a problem.4. The areas outside of Hogwarts and Hogsmead is either repeated or completely blandAs you know it's an open world game so therefore exploring should be fun right... sadly this was a letdown as they barely contain anything special nor carry any sentimental meaning. I would tell an NPC in one quest that their husband died and become an inferni in which I had to put down, afterwards she could not give any fucks after that quest ended.5. The ministry of magic gives zero fucksThe ministry of magic gives zero fucks, they don't care what's happening at all and they don't exist in this game.6. Good choices or \"bad\" choicesThe good choice is generally you offering items to people without anything in return, the \"bad\" choices would be either asking for something in return (which is given anyway without asking) or to just keep it. That's it.7. Poaching is bad, so Im going to nab them in my sack and then sell them to a woman who \"trustfully\" sends them to good homes.Here's the logic this story goes: Poaching is at high levels in hogwarts: the ministry gives zero fucks, the animals are getting captured, and freeing them seems to not matter cause they get recaptured anyway. The Solution: \"save\" the animals by sending them into your magic bag and then release them (after many hours of staying in the bag, starving to death and seeing only darkness) into the fake-ass world in the room of requirement where they get fed all-the-same food pellets and brushed with no other form of affection and then after that harvest items that the animals \"offered\" to you. and if you want send them to a woman who is \"trusted\" to send the animals to good homes and get money from that good deed you did.*I will continue this after I play more* \n",
      "\n"
     ]
    }
   ],
   "source": [
    "#This is where input() would be interesting because we could add any word we like and see what the comments are\n",
    "\n",
    "\n",
    "text_for = r\"(could've)\"\n",
    "liste_com = []\n",
    "\n",
    "for i in range(0,len(neg_rev_lowest_hours['Review'].str.extractall(text_for).index)):\n",
    "    liste_com.append(neg_rev_lowest_hours['Review'].str.extractall(text_for).index[i][0])\n",
    "\n",
    "for i in range(0, len(liste_com)):\n",
    "    print('NEG COMMENT:', neg_rev_lowest_hours.loc[liste_com[i]]['Review'], '\\n')\n",
    " "
   ]
  },
  {
   "attachments": {},
   "cell_type": "markdown",
   "metadata": {},
   "source": [
    "# Comments of people who loved the game "
   ]
  },
  {
   "cell_type": "code",
   "execution_count": 141,
   "metadata": {},
   "outputs": [
    {
     "name": "stdout",
     "output_type": "stream",
     "text": [
      "NEG COMMENT: Superg game, superb storyline \n",
      "\n",
      "NEG COMMENT: Superb game. Definitely for people already familiar with the Wizarding World, as a lot of the fun of the game is the exploration and a little bit of fan service. The game is superb and the combat and magic systems are very well designed. 10/10 to me! \n",
      "\n",
      "NEG COMMENT: Absolutely love this game.  They definitely have some glitches to smooth over, but the game is superb. \n",
      "\n",
      "NEG COMMENT: Playing this game is making me want to watch all the Harry Potter movies. Beautiful graphics, intriguing story, combat system is superb! 10/10 \n",
      "\n",
      "NEG COMMENT: so far an absolutely amazing game with superb story line, plenty to explore, and a variety of enemies to hone your magic skills on. \n",
      "\n",
      "NEG COMMENT: This game has exceeded my expectations. Even the side quests are engaging. Voice acting is superb. Game mechanics really good.  For anyone that's a fan of Harry Potter it's a must play. 5/5 for me. \n",
      "\n",
      "NEG COMMENT: superb game \n",
      "\n",
      "NEG COMMENT: Amazing game play, true open word, the puzzles are really well thought out and the story is superb. \n",
      "\n",
      "NEG COMMENT: I LOVE IT so nostalgic and the way we get to interact with the grounds and students is also simply superb \n",
      "\n",
      "NEG COMMENT: superb, absolutely riveting; stupendously and wonderfully executed. other British euphemisms and phrases for \"very good\" \n",
      "\n",
      "NEG COMMENT: Good game, great game, fabulous game, outstanding game, excellent game, favorable game, marvelous game, satisfactory game, superb game, first-class game. Good game 10/10 \n",
      "\n",
      "NEG COMMENT: Amazing game! The graphics are superb, the immersion is amazing too. Love the game \n",
      "\n",
      "NEG COMMENT: Hands down one the best games to have come out. lots of fun quest and side quest. as well as many mystery areas, puzzles and secretes to find. the fighting is superb. the game plays great on keyboard and mouse as well and controller. 10/10 recommendation \n",
      "\n",
      "NEG COMMENT: My Favorite game ever, the scenery is second to none, the story line is superb.the content is massive and i never get bored.very well done . i do home multiplayer is introduced in the future so i can play with friends. that would make in the cherry on top. \n",
      "\n",
      "NEG COMMENT: dream come true hahahaha. superb grahpics \n",
      "\n",
      "NEG COMMENT: Buy the game, End the cancel!(Great new slogan huh?)  Btw, it seems like an excellent game, great graphics, superb soundtrack and voice acting. Gameplay is on point.First review ever on steam, but it needs to be done in this situation. \n",
      "\n",
      "NEG COMMENT: Incredibly immersive story!  Virtually all dialogue is superbly voiced and acted.  Game play through early levels is engaging and very well-paced.  Highly recommended! \n",
      "\n",
      "NEG COMMENT: Brilliant!  Thanks JK for bringing us this wonderful world and superb job nailing it devs, just keep working on optimizing the game so we can get a little better FPS. \n",
      "\n",
      "NEG COMMENT: absolutely amazing! the attention to detail is superb. the makers really put in the time to make the wizarding world really come to life! \n",
      "\n",
      "NEG COMMENT: Good game, I suggest playing it on hard.Animation is superb there is clearly a lot of passion put into it. \n",
      "\n",
      "NEG COMMENT: If you want to experience more of this great IP, play this amazing game. Good storytelling, fun combat-system, amazing music and superb love for details. \n",
      "\n",
      "NEG COMMENT: It's really hard not to immerse myself in this beautiful and truly magical world, full of love for detail and things to explore. Also, the voice acting is superb! \n",
      "\n",
      "NEG COMMENT: This is the closest Harry Potter experience so far, great graphics, great voice acting, and superb world building. The game runs smoothly, on my 3080 with max settings, the only issues are some stuttering with some cut scenes. \n",
      "\n",
      "NEG COMMENT: Rare game that gets about everything right.  Atmosphere to the soundtrack to the voice acting... all superb.  Combat feels great and it just all works.  Well done developers. \n",
      "\n",
      "NEG COMMENT: Best game I have played in years. Story is really good and game-play superb. I also really like the controls. \n",
      "\n",
      "NEG COMMENT: Absolutely superb. \n",
      "\n",
      "NEG COMMENT: Only a short way, but so far it has been superb. \n",
      "\n",
      "NEG COMMENT: it looks gorgeous, voice acting is superb, the combat is fluid, the story intriguing from the start. but my 1060 cant even play it. So..... i still recommend. \n",
      "\n",
      "NEG COMMENT: The details in this game are amazing! The fight mechanics and flying mechanics are superb! The best game I have ever played since Witcher 3, just wow!I really recommend playing! :D \n",
      "\n",
      "NEG COMMENT: Haven't felt this way playing a game in ages. The atmosphere is superb and the world feels very detailed. Even without the insane amounts of Harry Potter nostalgia, this game is incredible. \n",
      "\n",
      "NEG COMMENT: What an excellent game this is. Thank you Avalanche an WB. Finally a real Harry Potter game. Graphics we superb. Music is awesome and learning spells or just exploring the massive world makes you really get away. \n",
      "\n",
      "NEG COMMENT: Bad battle system, but visuals and levels are insane.UPD: awful battle system, but only in fights with schoolmates, against villians it's superb.BROOM FLIGHTS ARE INSANE!!!!!!! ( Vibration is better to set off, playing with Dualsense ) \n",
      "\n",
      "NEG COMMENT: Yay! Just finished the main quests 40 minutes before the early access ended!Avalanche, you did a superb job. Thanks for this. Now to 100% it ..... :D47h so far during the 72-hour early access, safe to say I got hooked. Great experience! \n",
      "\n",
      "NEG COMMENT: Wow. This game is profound, every detail is superb. Magic is real. I cried. I'm crying. Beautifully done Avalanche Software and Portkey Games. Can't wait to explore this world over and over again.Edit: HOW does it keep getting BETTER?! \n",
      "\n"
     ]
    }
   ],
   "source": [
    "text_for = r\"(superb)\"\n",
    "liste_com = []\n",
    "\n",
    "for i in range(0,len(pos_rev_lowest_hours['Review'].str.extractall(text_for).index)):\n",
    "    liste_com.append(pos_rev_lowest_hours['Review'].str.extractall(text_for).index[i][0])\n",
    "\n",
    "for i in range(0, len(liste_com)):\n",
    "    print('NEG COMMENT:', pos_rev_lowest_hours.loc[liste_com[i]]['Review'], '\\n')"
   ]
  }
 ],
 "metadata": {
  "kernelspec": {
   "display_name": "base",
   "language": "python",
   "name": "python3"
  },
  "language_info": {
   "codemirror_mode": {
    "name": "ipython",
    "version": 3
   },
   "file_extension": ".py",
   "mimetype": "text/x-python",
   "name": "python",
   "nbconvert_exporter": "python",
   "pygments_lexer": "ipython3",
   "version": "3.9.7"
  },
  "orig_nbformat": 4,
  "vscode": {
   "interpreter": {
    "hash": "e4add18a1d3fd3a6dbbb13261b6766e932684d7fe767cd556bd8f6bcf88feb12"
   }
  }
 },
 "nbformat": 4,
 "nbformat_minor": 2
}
